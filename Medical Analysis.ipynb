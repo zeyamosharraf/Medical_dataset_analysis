{
 "cells": [
  {
   "cell_type": "markdown",
   "id": "4202b527-f844-4bb3-b77e-7eff34fe366c",
   "metadata": {},
   "source": [
    "# **Medical Dataset Analysis: Python, SQL, and Insights**"
   ]
  },
  {
   "cell_type": "markdown",
   "id": "70b6931d-fb58-4db8-8c8b-132785942904",
   "metadata": {},
   "source": [
    "Step into the world of data-driven healthcare analysis alongside Sarah, the healthcare data explorer, in our project, \"Medical Dataset Analysis: Python, SQL, and Insights.\" With Python as her trusted tool and SQL as her analytical compass, Sarah embarks on a mission to unlock the potential hidden in interconnected medical datasets.\n",
    "\n",
    "This project focuses on three critical datasets: \"hospitalization_details,\" \"medical_examinations,\" and \"names.\" Divided into two essential modules, the project commences with meticulous data cleaning, ensuring the data's accuracy and structure. Once the data shines brilliantly, the second module unleashes the power of SQL queries to extract valuable insights.\n",
    "\n",
    "Our journey is a deep dive into healthcare data, unearthing insights that can revolutionize healthcare decision-making and resource optimization. It's not just data analysis; it's a transformative voyage into the world of medical dataset analysis.\n",
    "\n",
    "By the end of this project, you won't just crunch numbers; you'll possess the tools to drive data-powered improvements in healthcare, enhancing the lives of patients and streamlining resource allocation.\n",
    "\n",
    "Join Sarah on this captivating journey, where every line of code and every SQL query unravels the mysteries of medical data. Together, we'll illuminate the path to actionable insights, shaping the future of healthcare with data-driven solutions."
   ]
  },
  {
   "cell_type": "markdown",
   "id": "20278470-ab45-4dfc-a81a-6fa4b9a11016",
   "metadata": {},
   "source": [
    "**Module 1**\n",
    "\n",
    "**Task 1: Loading Hospitalization Details**\n",
    "\n",
    "In this task, we load the hospitalization details from the 'hospitalisation_details.csv' file into a Pandas DataFrame named 'hosp_details.' This step is essential for our new project, \"Medical Dataset Analysis: Python, SQL, and Insights,\" as it forms the foundation for the data analysis and insights that we aim to derive from the medical dataset."
   ]
  },
  {
   "cell_type": "code",
   "execution_count": 1,
   "id": "0236669f-c6d3-475b-9e9a-f8d01bc7e2d4",
   "metadata": {},
   "outputs": [],
   "source": [
    "# import important library\n",
    "import pandas as pd\n",
    "import numpy as np\n",
    "import os \n",
    "import mysql.connector\n",
    "from dotenv import load_dotenv\n",
    "from pathlib import Path\n",
    "from tabulate import tabulate"
   ]
  },
  {
   "cell_type": "code",
   "execution_count": 2,
   "id": "d59d7fa0-ced8-41d2-a92f-8ba69050f954",
   "metadata": {},
   "outputs": [],
   "source": [
    "#--- Read in dataset(hospitalisation_details.csv) ----\n",
    "hosp_details = pd.read_csv(\"hospitalisation_details.csv\")"
   ]
  },
  {
   "cell_type": "code",
   "execution_count": 3,
   "id": "fdec389c-f303-4a88-a04d-320d5c9e7f5a",
   "metadata": {},
   "outputs": [
    {
     "data": {
      "text/html": [
       "<div>\n",
       "<style scoped>\n",
       "    .dataframe tbody tr th:only-of-type {\n",
       "        vertical-align: middle;\n",
       "    }\n",
       "\n",
       "    .dataframe tbody tr th {\n",
       "        vertical-align: top;\n",
       "    }\n",
       "\n",
       "    .dataframe thead th {\n",
       "        text-align: right;\n",
       "    }\n",
       "</style>\n",
       "<table border=\"1\" class=\"dataframe\">\n",
       "  <thead>\n",
       "    <tr style=\"text-align: right;\">\n",
       "      <th></th>\n",
       "      <th>c_id</th>\n",
       "      <th>yr</th>\n",
       "      <th>mth</th>\n",
       "      <th>date?</th>\n",
       "      <th>children?</th>\n",
       "      <th>charges?</th>\n",
       "      <th>host_tier</th>\n",
       "      <th>Ct_tier</th>\n",
       "      <th>st_id</th>\n",
       "      <th>Has_Children</th>\n",
       "      <th>Is_Frequent_Treatment</th>\n",
       "    </tr>\n",
       "  </thead>\n",
       "  <tbody>\n",
       "    <tr>\n",
       "      <th>0</th>\n",
       "      <td>Id2335</td>\n",
       "      <td>1992</td>\n",
       "      <td>Jul</td>\n",
       "      <td>9</td>\n",
       "      <td>0</td>\n",
       "      <td>563.84</td>\n",
       "      <td>tier - 2</td>\n",
       "      <td>tier - 3</td>\n",
       "      <td>R1013</td>\n",
       "      <td>no</td>\n",
       "      <td>no</td>\n",
       "    </tr>\n",
       "    <tr>\n",
       "      <th>1</th>\n",
       "      <td>Id2334</td>\n",
       "      <td>1992</td>\n",
       "      <td>Nov</td>\n",
       "      <td>30</td>\n",
       "      <td>0</td>\n",
       "      <td>570.62</td>\n",
       "      <td>tier - 2</td>\n",
       "      <td>tier - 1</td>\n",
       "      <td>R1013</td>\n",
       "      <td>no</td>\n",
       "      <td>no</td>\n",
       "    </tr>\n",
       "    <tr>\n",
       "      <th>2</th>\n",
       "      <td>Id2333</td>\n",
       "      <td>1993</td>\n",
       "      <td>NaN</td>\n",
       "      <td>30</td>\n",
       "      <td>0</td>\n",
       "      <td>600.00</td>\n",
       "      <td>tier - 2</td>\n",
       "      <td>tier - 1</td>\n",
       "      <td>R1013</td>\n",
       "      <td>no</td>\n",
       "      <td>no</td>\n",
       "    </tr>\n",
       "    <tr>\n",
       "      <th>3</th>\n",
       "      <td>Id2332</td>\n",
       "      <td>1992</td>\n",
       "      <td>Sep</td>\n",
       "      <td>13</td>\n",
       "      <td>0</td>\n",
       "      <td>604.54</td>\n",
       "      <td>tier - 3</td>\n",
       "      <td>tier - 3</td>\n",
       "      <td>R1013</td>\n",
       "      <td>no</td>\n",
       "      <td>no</td>\n",
       "    </tr>\n",
       "    <tr>\n",
       "      <th>4</th>\n",
       "      <td>Id2331</td>\n",
       "      <td>1998</td>\n",
       "      <td>Jul</td>\n",
       "      <td>27</td>\n",
       "      <td>0</td>\n",
       "      <td>637.26</td>\n",
       "      <td>tier - 3</td>\n",
       "      <td>tier - 3</td>\n",
       "      <td>R1013</td>\n",
       "      <td>no</td>\n",
       "      <td>no</td>\n",
       "    </tr>\n",
       "  </tbody>\n",
       "</table>\n",
       "</div>"
      ],
      "text/plain": [
       "     c_id    yr  mth  date?  children?  charges? host_tier   Ct_tier  st_id  \\\n",
       "0  Id2335  1992  Jul      9          0    563.84  tier - 2  tier - 3  R1013   \n",
       "1  Id2334  1992  Nov     30          0    570.62  tier - 2  tier - 1  R1013   \n",
       "2  Id2333  1993  NaN     30          0    600.00  tier - 2  tier - 1  R1013   \n",
       "3  Id2332  1992  Sep     13          0    604.54  tier - 3  tier - 3  R1013   \n",
       "4  Id2331  1998  Jul     27          0    637.26  tier - 3  tier - 3  R1013   \n",
       "\n",
       "  Has_Children Is_Frequent_Treatment  \n",
       "0           no                    no  \n",
       "1           no                    no  \n",
       "2           no                    no  \n",
       "3           no                    no  \n",
       "4           no                    no  "
      ]
     },
     "execution_count": 3,
     "metadata": {},
     "output_type": "execute_result"
    }
   ],
   "source": [
    "#--- Inspect data ---\n",
    "hosp_details.head()"
   ]
  },
  {
   "cell_type": "markdown",
   "id": "aee49220-669d-40fd-a35c-cad940c2cce2",
   "metadata": {},
   "source": [
    "**Task 2: Identifying Null Values in Hospitalization Details**\r\n",
    "\r\n",
    "In this task, we identify and count the null values in the 'hosp_details' dataset. This step is crucial for our new project, \"Medical Dataset Analysis: Python, SQL, and Insights,\" as it helps us understand the extent of missing data within the dataset. Recognizing and handling null values is essential for ensuring the accuracy and quality of our data analysis and insights."
   ]
  },
  {
   "cell_type": "code",
   "execution_count": 4,
   "id": "6f77398b-4653-4e25-b9ec-45f698855f00",
   "metadata": {},
   "outputs": [
    {
     "data": {
      "text/plain": [
       "c_id                     0\n",
       "yr                       0\n",
       "mth                      1\n",
       "date?                    0\n",
       "children?                0\n",
       "charges?                 0\n",
       "host_tier                0\n",
       "Ct_tier                  0\n",
       "st_id                    0\n",
       "Has_Children             0\n",
       "Is_Frequent_Treatment    0\n",
       "dtype: int64"
      ]
     },
     "execution_count": 4,
     "metadata": {},
     "output_type": "execute_result"
    }
   ],
   "source": [
    "null_values = hosp_details.isnull().sum()\n",
    "null_values "
   ]
  },
  {
   "cell_type": "code",
   "execution_count": 5,
   "id": "47cd3d0f-cf20-43f9-b46a-a0925fb45886",
   "metadata": {},
   "outputs": [],
   "source": [
    "#remove the null values\n",
    "remove_null_value = hosp_details.dropna(inplace = True)\n",
    "remove_null_value "
   ]
  },
  {
   "cell_type": "markdown",
   "id": "2a90df26-fc42-4e50-b878-21d65da2e8f3",
   "metadata": {},
   "source": [
    "**Task 3: Identifying Data Types in Hospitalization Details**\r\n",
    "\r\n",
    "In this task, we determine the data types of the columns in the 'hosp_details' dataset. This step is vital for our data analysis, as it provides insights into how the data is stored and helps us select appropriate methods for further analysis. Understanding the data types is crucial for working with the dataset effectively."
   ]
  },
  {
   "cell_type": "code",
   "execution_count": 6,
   "id": "790db7ad-e2f1-49e5-8f97-0e47d640cdec",
   "metadata": {},
   "outputs": [
    {
     "data": {
      "text/plain": [
       "c_id                      object\n",
       "yr                         int64\n",
       "mth                       object\n",
       "date?                      int64\n",
       "children?                  int64\n",
       "charges?                 float64\n",
       "host_tier                 object\n",
       "Ct_tier                   object\n",
       "st_id                     object\n",
       "Has_Children              object\n",
       "Is_Frequent_Treatment     object\n",
       "dtype: object"
      ]
     },
     "execution_count": 6,
     "metadata": {},
     "output_type": "execute_result"
    }
   ],
   "source": [
    "data_types = hosp_details.dtypes\n",
    "data_types"
   ]
  },
  {
   "cell_type": "markdown",
   "id": "0e588408-d6d4-4e8c-9e6a-409c3f951887",
   "metadata": {},
   "source": [
    "**Task 4: Identifying Duplicate Data in Hospitalization Details**\n",
    "\n",
    "In this task, we aim to identify and quantify the presence of duplicate data within the 'hosp_details' dataset. The count of duplicates (referred to as 'duplicates' in the code) is an important metric. It helps us understand the extent of redundancy in the dataset, which is crucial for data quality and accuracy in our analysis. By recognizing and handling duplicate records, we ensure that our insights and conclusions are based on unique, meaningful data, preventing any potential distortions caused by repeated entries."
   ]
  },
  {
   "cell_type": "code",
   "execution_count": 7,
   "id": "e1e3382b-c646-48d4-812b-4117452d4772",
   "metadata": {},
   "outputs": [
    {
     "data": {
      "text/plain": [
       "np.int64(89)"
      ]
     },
     "execution_count": 7,
     "metadata": {},
     "output_type": "execute_result"
    }
   ],
   "source": [
    "duplicate_data = hosp_details.duplicated().sum()\n",
    "duplicate_data"
   ]
  },
  {
   "cell_type": "markdown",
   "id": "4929f359-1ef4-4be2-9c74-4742fa9ac269",
   "metadata": {},
   "source": [
    "**Task 5: **Data Preprocessing and Cleaning for Hospitalization Details****\r\n",
    "\r\n",
    "In this task, we perform data preprocessing and cleaning on the 'hosp_details' dataset. We start by removing duplicate records to ensure data quality and accuracy. Next, we remove specific columns, 'Has_Children' and 'Is_Frequent_Treatment,' as they are not relevant to our analysis. We also rename columns to improve clarity and understanding of the data. Finally, we save the cleaned dataset as 'hospitalisation_details_cleaned.csv.' This data preprocessing and cleaning is crucial for our analysis, as it ensures that we work with accurate and meaningful data in our new project."
   ]
  },
  {
   "cell_type": "code",
   "execution_count": 8,
   "id": "5110c363-10e3-4158-b712-c16c37903441",
   "metadata": {},
   "outputs": [],
   "source": [
    "# remove duplicates and unwanted columns \n",
    "hosp_details.drop_duplicates(inplace = True)\n",
    "hosp_details.drop(['Has_Children','Is_Frequent_Treatment'], axis = 1, inplace = True)"
   ]
  },
  {
   "cell_type": "code",
   "execution_count": 9,
   "id": "809ec276-d94c-4600-aeca-855251776fc0",
   "metadata": {},
   "outputs": [],
   "source": [
    "#rename the columns\n",
    "hosp_details.rename(columns = {'c_id' : 'customer_id',\n",
    "                               'yr' : 'year',\n",
    "                               'mth' : 'month',\n",
    "                               'date?' : 'date',\n",
    "                               'children?' : 'children',\n",
    "                               'charges?' : 'charges',\n",
    "                               'host_tier' : 'hospital_tier',\n",
    "                               'Ct_tier': 'city_tier',\n",
    "                               'st_id': 'state_id'}, inplace=True)"
   ]
  },
  {
   "cell_type": "code",
   "execution_count": 10,
   "id": "b10441bd-e9e6-497c-9955-33985ddeef1a",
   "metadata": {},
   "outputs": [],
   "source": [
    "hosp_details.to_csv('hospitalisation_details_cleaned.csv', index=False, index_label='customer_id')"
   ]
  },
  {
   "cell_type": "code",
   "execution_count": 11,
   "id": "e155d5a9-59c5-4b60-b0c4-8a75f448bad2",
   "metadata": {},
   "outputs": [
    {
     "data": {
      "text/html": [
       "<div>\n",
       "<style scoped>\n",
       "    .dataframe tbody tr th:only-of-type {\n",
       "        vertical-align: middle;\n",
       "    }\n",
       "\n",
       "    .dataframe tbody tr th {\n",
       "        vertical-align: top;\n",
       "    }\n",
       "\n",
       "    .dataframe thead th {\n",
       "        text-align: right;\n",
       "    }\n",
       "</style>\n",
       "<table border=\"1\" class=\"dataframe\">\n",
       "  <thead>\n",
       "    <tr style=\"text-align: right;\">\n",
       "      <th></th>\n",
       "      <th>customer_id</th>\n",
       "      <th>year</th>\n",
       "      <th>month</th>\n",
       "      <th>date</th>\n",
       "      <th>children</th>\n",
       "      <th>charges</th>\n",
       "      <th>hospital_tier</th>\n",
       "      <th>city_tier</th>\n",
       "      <th>state_id</th>\n",
       "    </tr>\n",
       "  </thead>\n",
       "  <tbody>\n",
       "    <tr>\n",
       "      <th>0</th>\n",
       "      <td>Id2335</td>\n",
       "      <td>1992</td>\n",
       "      <td>Jul</td>\n",
       "      <td>9</td>\n",
       "      <td>0</td>\n",
       "      <td>563.84</td>\n",
       "      <td>tier - 2</td>\n",
       "      <td>tier - 3</td>\n",
       "      <td>R1013</td>\n",
       "    </tr>\n",
       "    <tr>\n",
       "      <th>1</th>\n",
       "      <td>Id2334</td>\n",
       "      <td>1992</td>\n",
       "      <td>Nov</td>\n",
       "      <td>30</td>\n",
       "      <td>0</td>\n",
       "      <td>570.62</td>\n",
       "      <td>tier - 2</td>\n",
       "      <td>tier - 1</td>\n",
       "      <td>R1013</td>\n",
       "    </tr>\n",
       "    <tr>\n",
       "      <th>2</th>\n",
       "      <td>Id2332</td>\n",
       "      <td>1992</td>\n",
       "      <td>Sep</td>\n",
       "      <td>13</td>\n",
       "      <td>0</td>\n",
       "      <td>604.54</td>\n",
       "      <td>tier - 3</td>\n",
       "      <td>tier - 3</td>\n",
       "      <td>R1013</td>\n",
       "    </tr>\n",
       "    <tr>\n",
       "      <th>3</th>\n",
       "      <td>Id2331</td>\n",
       "      <td>1998</td>\n",
       "      <td>Jul</td>\n",
       "      <td>27</td>\n",
       "      <td>0</td>\n",
       "      <td>637.26</td>\n",
       "      <td>tier - 3</td>\n",
       "      <td>tier - 3</td>\n",
       "      <td>R1013</td>\n",
       "    </tr>\n",
       "    <tr>\n",
       "      <th>4</th>\n",
       "      <td>Id2330</td>\n",
       "      <td>2001</td>\n",
       "      <td>Nov</td>\n",
       "      <td>20</td>\n",
       "      <td>0</td>\n",
       "      <td>646.14</td>\n",
       "      <td>tier - 3</td>\n",
       "      <td>tier - 3</td>\n",
       "      <td>R1012</td>\n",
       "    </tr>\n",
       "  </tbody>\n",
       "</table>\n",
       "</div>"
      ],
      "text/plain": [
       "  customer_id  year month  date  children  charges hospital_tier city_tier  \\\n",
       "0      Id2335  1992   Jul     9         0   563.84      tier - 2  tier - 3   \n",
       "1      Id2334  1992   Nov    30         0   570.62      tier - 2  tier - 1   \n",
       "2      Id2332  1992   Sep    13         0   604.54      tier - 3  tier - 3   \n",
       "3      Id2331  1998   Jul    27         0   637.26      tier - 3  tier - 3   \n",
       "4      Id2330  2001   Nov    20         0   646.14      tier - 3  tier - 3   \n",
       "\n",
       "  state_id  \n",
       "0    R1013  \n",
       "1    R1013  \n",
       "2    R1013  \n",
       "3    R1013  \n",
       "4    R1012  "
      ]
     },
     "execution_count": 11,
     "metadata": {},
     "output_type": "execute_result"
    }
   ],
   "source": [
    "#Check the clean data\n",
    "hosp = pd.read_csv('hospitalisation_details_cleaned.csv')\n",
    "hosp.head()"
   ]
  },
  {
   "cell_type": "markdown",
   "id": "90ff606e-659b-46ea-8590-6e581f5fb4cb",
   "metadata": {},
   "source": [
    "**Task 6: Loading Medical Examination Data**\n",
    "\n",
    "In this task, we load the medical examination data from the 'medical_examinations.csv' file into a Pandas DataFrame named 'med_exam.' This step is essential for our new project, \"Medical Dataset Analysis: Python, SQL, and Insights,\" as it forms the foundation for the data analysis and insights that we aim to derive from the medical dataset."
   ]
  },
  {
   "cell_type": "code",
   "execution_count": 12,
   "id": "4250f308-358e-4a30-bca3-d788b03dac8b",
   "metadata": {},
   "outputs": [
    {
     "data": {
      "text/html": [
       "<div>\n",
       "<style scoped>\n",
       "    .dataframe tbody tr th:only-of-type {\n",
       "        vertical-align: middle;\n",
       "    }\n",
       "\n",
       "    .dataframe tbody tr th {\n",
       "        vertical-align: top;\n",
       "    }\n",
       "\n",
       "    .dataframe thead th {\n",
       "        text-align: right;\n",
       "    }\n",
       "</style>\n",
       "<table border=\"1\" class=\"dataframe\">\n",
       "  <thead>\n",
       "    <tr style=\"text-align: right;\">\n",
       "      <th></th>\n",
       "      <th>cid</th>\n",
       "      <th>b_m_i</th>\n",
       "      <th>HBA1C</th>\n",
       "      <th>h_Issues</th>\n",
       "      <th>any_transplant</th>\n",
       "      <th>cancer_hist</th>\n",
       "      <th>noofmajorsurgeries</th>\n",
       "      <th>smoker??</th>\n",
       "      <th>recovery_period</th>\n",
       "    </tr>\n",
       "  </thead>\n",
       "  <tbody>\n",
       "    <tr>\n",
       "      <th>0</th>\n",
       "      <td>Id1</td>\n",
       "      <td>47.410</td>\n",
       "      <td>7.47</td>\n",
       "      <td>No</td>\n",
       "      <td>No</td>\n",
       "      <td>No</td>\n",
       "      <td>No major surgery</td>\n",
       "      <td>yes</td>\n",
       "      <td>NaN</td>\n",
       "    </tr>\n",
       "    <tr>\n",
       "      <th>1</th>\n",
       "      <td>Id2</td>\n",
       "      <td>30.360</td>\n",
       "      <td>5.77</td>\n",
       "      <td>No</td>\n",
       "      <td>No</td>\n",
       "      <td>No</td>\n",
       "      <td>No major surgery</td>\n",
       "      <td>yes</td>\n",
       "      <td>NaN</td>\n",
       "    </tr>\n",
       "    <tr>\n",
       "      <th>2</th>\n",
       "      <td>Id3</td>\n",
       "      <td>34.485</td>\n",
       "      <td>11.87</td>\n",
       "      <td>yes</td>\n",
       "      <td>No</td>\n",
       "      <td>No</td>\n",
       "      <td>2</td>\n",
       "      <td>yes</td>\n",
       "      <td>Moderate</td>\n",
       "    </tr>\n",
       "    <tr>\n",
       "      <th>3</th>\n",
       "      <td>Id4</td>\n",
       "      <td>38.095</td>\n",
       "      <td>6.05</td>\n",
       "      <td>No</td>\n",
       "      <td>No</td>\n",
       "      <td>No</td>\n",
       "      <td>No major surgery</td>\n",
       "      <td>yes</td>\n",
       "      <td>NaN</td>\n",
       "    </tr>\n",
       "    <tr>\n",
       "      <th>4</th>\n",
       "      <td>Id5</td>\n",
       "      <td>35.530</td>\n",
       "      <td>5.45</td>\n",
       "      <td>No</td>\n",
       "      <td>No</td>\n",
       "      <td>No</td>\n",
       "      <td>No major surgery</td>\n",
       "      <td>yes</td>\n",
       "      <td>NaN</td>\n",
       "    </tr>\n",
       "    <tr>\n",
       "      <th>...</th>\n",
       "      <td>...</td>\n",
       "      <td>...</td>\n",
       "      <td>...</td>\n",
       "      <td>...</td>\n",
       "      <td>...</td>\n",
       "      <td>...</td>\n",
       "      <td>...</td>\n",
       "      <td>...</td>\n",
       "      <td>...</td>\n",
       "    </tr>\n",
       "    <tr>\n",
       "      <th>2369</th>\n",
       "      <td>Id128</td>\n",
       "      <td>32.775</td>\n",
       "      <td>4.72</td>\n",
       "      <td>No</td>\n",
       "      <td>No</td>\n",
       "      <td>No</td>\n",
       "      <td>No major surgery</td>\n",
       "      <td>yes</td>\n",
       "      <td>NaN</td>\n",
       "    </tr>\n",
       "    <tr>\n",
       "      <th>2370</th>\n",
       "      <td>Id129</td>\n",
       "      <td>34.200</td>\n",
       "      <td>5.91</td>\n",
       "      <td>yes</td>\n",
       "      <td>No</td>\n",
       "      <td>No</td>\n",
       "      <td>No major surgery</td>\n",
       "      <td>yes</td>\n",
       "      <td>NaN</td>\n",
       "    </tr>\n",
       "    <tr>\n",
       "      <th>2371</th>\n",
       "      <td>Id130</td>\n",
       "      <td>30.200</td>\n",
       "      <td>9.58</td>\n",
       "      <td>No</td>\n",
       "      <td>No</td>\n",
       "      <td>No</td>\n",
       "      <td>No major surgery</td>\n",
       "      <td>yes</td>\n",
       "      <td>NaN</td>\n",
       "    </tr>\n",
       "    <tr>\n",
       "      <th>2372</th>\n",
       "      <td>Id131</td>\n",
       "      <td>48.320</td>\n",
       "      <td>5.77</td>\n",
       "      <td>No</td>\n",
       "      <td>No</td>\n",
       "      <td>No</td>\n",
       "      <td>No major surgery</td>\n",
       "      <td>yes</td>\n",
       "      <td>NaN</td>\n",
       "    </tr>\n",
       "    <tr>\n",
       "      <th>2373</th>\n",
       "      <td>Id132</td>\n",
       "      <td>44.860</td>\n",
       "      <td>4.38</td>\n",
       "      <td>yes</td>\n",
       "      <td>No</td>\n",
       "      <td>No</td>\n",
       "      <td>No major surgery</td>\n",
       "      <td>yes</td>\n",
       "      <td>NaN</td>\n",
       "    </tr>\n",
       "  </tbody>\n",
       "</table>\n",
       "<p>2374 rows × 9 columns</p>\n",
       "</div>"
      ],
      "text/plain": [
       "        cid   b_m_i  HBA1C h_Issues any_transplant cancer_hist  \\\n",
       "0       Id1  47.410   7.47       No             No          No   \n",
       "1       Id2  30.360   5.77       No             No          No   \n",
       "2       Id3  34.485  11.87      yes             No          No   \n",
       "3       Id4  38.095   6.05       No             No          No   \n",
       "4       Id5  35.530   5.45       No             No          No   \n",
       "...     ...     ...    ...      ...            ...         ...   \n",
       "2369  Id128  32.775   4.72       No             No          No   \n",
       "2370  Id129  34.200   5.91      yes             No          No   \n",
       "2371  Id130  30.200   9.58       No             No          No   \n",
       "2372  Id131  48.320   5.77       No             No          No   \n",
       "2373  Id132  44.860   4.38      yes             No          No   \n",
       "\n",
       "     noofmajorsurgeries smoker?? recovery_period  \n",
       "0      No major surgery      yes             NaN  \n",
       "1      No major surgery      yes             NaN  \n",
       "2                     2      yes        Moderate  \n",
       "3      No major surgery      yes             NaN  \n",
       "4      No major surgery      yes             NaN  \n",
       "...                 ...      ...             ...  \n",
       "2369   No major surgery      yes             NaN  \n",
       "2370   No major surgery      yes             NaN  \n",
       "2371   No major surgery      yes             NaN  \n",
       "2372   No major surgery      yes             NaN  \n",
       "2373   No major surgery      yes             NaN  \n",
       "\n",
       "[2374 rows x 9 columns]"
      ]
     },
     "execution_count": 12,
     "metadata": {},
     "output_type": "execute_result"
    }
   ],
   "source": [
    "#load the data medical_examinantion\n",
    "med_exam = pd.read_csv('medical_examinations.csv')\n",
    "med_exam"
   ]
  },
  {
   "cell_type": "markdown",
   "id": "7e6f560d-3a38-47f1-85e0-c4455185a2f7",
   "metadata": {},
   "source": [
    "**Task 7: Identifying Null Values in Medical Examination Data**\r\n",
    "\r\n",
    "In this task, we identify and count the null values in the 'med_exam' dataset. This step is crucial for our new project, as it helps us understand the extent of missing data within the dataset. Recognizing and handling null values is essential for ensuring the accuracy and quality of our data analysis and insights."
   ]
  },
  {
   "cell_type": "code",
   "execution_count": 13,
   "id": "8a30cd54-9f55-4a85-842e-73af09b3efa4",
   "metadata": {},
   "outputs": [
    {
     "data": {
      "text/plain": [
       "cid                      0\n",
       "b_m_i                    0\n",
       "HBA1C                    0\n",
       "h_Issues                 0\n",
       "any_transplant           0\n",
       "cancer_hist              0\n",
       "noofmajorsurgeries       0\n",
       "smoker??                 0\n",
       "recovery_period       1096\n",
       "dtype: int64"
      ]
     },
     "execution_count": 13,
     "metadata": {},
     "output_type": "execute_result"
    }
   ],
   "source": [
    "null_values = med_exam.isnull().sum()\n",
    "null_values"
   ]
  },
  {
   "cell_type": "code",
   "execution_count": 14,
   "id": "9f37d98b-59d4-41a9-a501-e9c172648a02",
   "metadata": {},
   "outputs": [
    {
     "name": "stderr",
     "output_type": "stream",
     "text": [
      "C:\\Users\\zeyam\\AppData\\Local\\Temp\\ipykernel_3568\\300772828.py:2: FutureWarning: A value is trying to be set on a copy of a DataFrame or Series through chained assignment using an inplace method.\n",
      "The behavior will change in pandas 3.0. This inplace method will never work because the intermediate object on which we are setting values always behaves as a copy.\n",
      "\n",
      "For example, when doing 'df[col].method(value, inplace=True)', try using 'df.method({col: value}, inplace=True)' or df[col] = df[col].method(value) instead, to perform the operation inplace on the original object.\n",
      "\n",
      "\n",
      "  med_exam['noofmajorsurgeries'].replace('No major surgery', 0, inplace= True)\n"
     ]
    }
   ],
   "source": [
    "# Replace all occurrences of \"nomajorsurgeries\" with 0 in the 'nomajorsurgeries' column\n",
    "med_exam['noofmajorsurgeries'].replace('No major surgery', 0, inplace= True)"
   ]
  },
  {
   "cell_type": "markdown",
   "id": "26932f30-0762-4223-82e2-fb32e1722e03",
   "metadata": {},
   "source": [
    "**Task 8: Identifying Data Types in Medical Examination Data**\n",
    "\n",
    "In this task, we determine the data types of the columns in the 'med_exam' dataset. This step is vital for our data analysis, as it provides insights into how the data is stored and helps us select appropriate methods for further analysis. Understanding the data types is crucial for working with the dataset effectively."
   ]
  },
  {
   "cell_type": "code",
   "execution_count": 15,
   "id": "3e186351-12eb-4ebe-866d-a19fb3730a90",
   "metadata": {},
   "outputs": [
    {
     "data": {
      "text/plain": [
       "c_id                      object\n",
       "yr                         int64\n",
       "mth                       object\n",
       "date?                      int64\n",
       "children?                  int64\n",
       "charges?                 float64\n",
       "host_tier                 object\n",
       "Ct_tier                   object\n",
       "st_id                     object\n",
       "Has_Children              object\n",
       "Is_Frequent_Treatment     object\n",
       "dtype: object"
      ]
     },
     "execution_count": 15,
     "metadata": {},
     "output_type": "execute_result"
    }
   ],
   "source": [
    "data_tpes = med_exam.dtypes\n",
    "data_types"
   ]
  },
  {
   "cell_type": "markdown",
   "id": "f8074f6e-ab5b-4109-8c83-b8251ec77a5a",
   "metadata": {},
   "source": [
    "**Task 9: Identifying Duplicate Data in Medical Examination Data**\n",
    "\n",
    "In this task, we aim to identify and quantify the presence of duplicate data within the 'med_exam' dataset. The count of duplicates (referred to as 'duplicates' in the code) is an important metric. It helps us understand the extent of redundancy in the dataset, which is crucial for data quality and accuracy in our analysis. By recognizing and handling duplicate records, we ensure that our insights and conclusions are based on unique, meaningful data, preventing any potential distortions caused by repeated entries."
   ]
  },
  {
   "cell_type": "code",
   "execution_count": 16,
   "id": "9e462722-48a6-42c5-9064-9134180cd384",
   "metadata": {},
   "outputs": [
    {
     "data": {
      "text/plain": [
       "np.int64(39)"
      ]
     },
     "execution_count": 16,
     "metadata": {},
     "output_type": "execute_result"
    }
   ],
   "source": [
    "duplicates_data = med_exam.duplicated().sum()\n",
    "duplicates_data"
   ]
  },
  {
   "cell_type": "markdown",
   "id": "49e7cff6-e164-4acc-93a7-12aee69d13fe",
   "metadata": {},
   "source": [
    "**Task 10: Data Preprocessing and Cleaning for Medical Examination Data**\n",
    "\n",
    "In this task, we perform data preprocessing and cleaning on the 'med_exam' dataset. We start by removing duplicate records to ensure data quality and accuracy. Next, we remove a specific column, 'recovery_period,' as it may not be relevant to our analysis. We also rename columns to improve clarity and understanding of the data. Finally, we save the cleaned dataset as 'medical_examinations_cleaned.csv.' This data preprocessing and cleaning is crucial for our analysis, as it ensures that we work with accurate and meaningful data in our new project."
   ]
  },
  {
   "cell_type": "code",
   "execution_count": 17,
   "id": "0f594e05-c388-4d84-8f69-fb057a869997",
   "metadata": {},
   "outputs": [],
   "source": [
    "# reomve and drop the duplicates and unwated columns\n",
    "med_exam.drop_duplicates(inplace = True)\n",
    "med_exam.drop(['recovery_period'], axis = 1, inplace = True)"
   ]
  },
  {
   "cell_type": "code",
   "execution_count": 18,
   "id": "e4ccacde-d584-414d-b318-4001a7f9ffac",
   "metadata": {},
   "outputs": [
    {
     "data": {
      "text/html": [
       "<div>\n",
       "<style scoped>\n",
       "    .dataframe tbody tr th:only-of-type {\n",
       "        vertical-align: middle;\n",
       "    }\n",
       "\n",
       "    .dataframe tbody tr th {\n",
       "        vertical-align: top;\n",
       "    }\n",
       "\n",
       "    .dataframe thead th {\n",
       "        text-align: right;\n",
       "    }\n",
       "</style>\n",
       "<table border=\"1\" class=\"dataframe\">\n",
       "  <thead>\n",
       "    <tr style=\"text-align: right;\">\n",
       "      <th></th>\n",
       "      <th>customer_id</th>\n",
       "      <th>BMI</th>\n",
       "      <th>HBA1C</th>\n",
       "      <th>health_issues</th>\n",
       "      <th>any_transplant</th>\n",
       "      <th>cancer_history</th>\n",
       "      <th>numberofmajorsurgeries</th>\n",
       "      <th>smoker</th>\n",
       "    </tr>\n",
       "  </thead>\n",
       "  <tbody>\n",
       "    <tr>\n",
       "      <th>0</th>\n",
       "      <td>Id1</td>\n",
       "      <td>47.410</td>\n",
       "      <td>7.47</td>\n",
       "      <td>No</td>\n",
       "      <td>No</td>\n",
       "      <td>No</td>\n",
       "      <td>0</td>\n",
       "      <td>yes</td>\n",
       "    </tr>\n",
       "    <tr>\n",
       "      <th>1</th>\n",
       "      <td>Id2</td>\n",
       "      <td>30.360</td>\n",
       "      <td>5.77</td>\n",
       "      <td>No</td>\n",
       "      <td>No</td>\n",
       "      <td>No</td>\n",
       "      <td>0</td>\n",
       "      <td>yes</td>\n",
       "    </tr>\n",
       "    <tr>\n",
       "      <th>2</th>\n",
       "      <td>Id3</td>\n",
       "      <td>34.485</td>\n",
       "      <td>11.87</td>\n",
       "      <td>yes</td>\n",
       "      <td>No</td>\n",
       "      <td>No</td>\n",
       "      <td>2</td>\n",
       "      <td>yes</td>\n",
       "    </tr>\n",
       "    <tr>\n",
       "      <th>3</th>\n",
       "      <td>Id4</td>\n",
       "      <td>38.095</td>\n",
       "      <td>6.05</td>\n",
       "      <td>No</td>\n",
       "      <td>No</td>\n",
       "      <td>No</td>\n",
       "      <td>0</td>\n",
       "      <td>yes</td>\n",
       "    </tr>\n",
       "    <tr>\n",
       "      <th>4</th>\n",
       "      <td>Id5</td>\n",
       "      <td>35.530</td>\n",
       "      <td>5.45</td>\n",
       "      <td>No</td>\n",
       "      <td>No</td>\n",
       "      <td>No</td>\n",
       "      <td>0</td>\n",
       "      <td>yes</td>\n",
       "    </tr>\n",
       "    <tr>\n",
       "      <th>...</th>\n",
       "      <td>...</td>\n",
       "      <td>...</td>\n",
       "      <td>...</td>\n",
       "      <td>...</td>\n",
       "      <td>...</td>\n",
       "      <td>...</td>\n",
       "      <td>...</td>\n",
       "      <td>...</td>\n",
       "    </tr>\n",
       "    <tr>\n",
       "      <th>2330</th>\n",
       "      <td>Id2331</td>\n",
       "      <td>22.340</td>\n",
       "      <td>5.57</td>\n",
       "      <td>No</td>\n",
       "      <td>No</td>\n",
       "      <td>No</td>\n",
       "      <td>1</td>\n",
       "      <td>No</td>\n",
       "    </tr>\n",
       "    <tr>\n",
       "      <th>2331</th>\n",
       "      <td>Id2332</td>\n",
       "      <td>17.700</td>\n",
       "      <td>6.28</td>\n",
       "      <td>No</td>\n",
       "      <td>No</td>\n",
       "      <td>No</td>\n",
       "      <td>1</td>\n",
       "      <td>No</td>\n",
       "    </tr>\n",
       "    <tr>\n",
       "      <th>2332</th>\n",
       "      <td>Id2333</td>\n",
       "      <td>16.470</td>\n",
       "      <td>6.35</td>\n",
       "      <td>No</td>\n",
       "      <td>No</td>\n",
       "      <td>Yes</td>\n",
       "      <td>1</td>\n",
       "      <td>No</td>\n",
       "    </tr>\n",
       "    <tr>\n",
       "      <th>2333</th>\n",
       "      <td>Id2334</td>\n",
       "      <td>17.600</td>\n",
       "      <td>4.39</td>\n",
       "      <td>No</td>\n",
       "      <td>No</td>\n",
       "      <td>No</td>\n",
       "      <td>1</td>\n",
       "      <td>No</td>\n",
       "    </tr>\n",
       "    <tr>\n",
       "      <th>2334</th>\n",
       "      <td>Id2335</td>\n",
       "      <td>17.580</td>\n",
       "      <td>4.51</td>\n",
       "      <td>No</td>\n",
       "      <td>No</td>\n",
       "      <td>No</td>\n",
       "      <td>1</td>\n",
       "      <td>No</td>\n",
       "    </tr>\n",
       "  </tbody>\n",
       "</table>\n",
       "<p>2335 rows × 8 columns</p>\n",
       "</div>"
      ],
      "text/plain": [
       "     customer_id     BMI  HBA1C health_issues any_transplant cancer_history  \\\n",
       "0            Id1  47.410   7.47            No             No             No   \n",
       "1            Id2  30.360   5.77            No             No             No   \n",
       "2            Id3  34.485  11.87           yes             No             No   \n",
       "3            Id4  38.095   6.05            No             No             No   \n",
       "4            Id5  35.530   5.45            No             No             No   \n",
       "...          ...     ...    ...           ...            ...            ...   \n",
       "2330      Id2331  22.340   5.57            No             No             No   \n",
       "2331      Id2332  17.700   6.28            No             No             No   \n",
       "2332      Id2333  16.470   6.35            No             No            Yes   \n",
       "2333      Id2334  17.600   4.39            No             No             No   \n",
       "2334      Id2335  17.580   4.51            No             No             No   \n",
       "\n",
       "     numberofmajorsurgeries smoker  \n",
       "0                         0    yes  \n",
       "1                         0    yes  \n",
       "2                         2    yes  \n",
       "3                         0    yes  \n",
       "4                         0    yes  \n",
       "...                     ...    ...  \n",
       "2330                      1     No  \n",
       "2331                      1     No  \n",
       "2332                      1     No  \n",
       "2333                      1     No  \n",
       "2334                      1     No  \n",
       "\n",
       "[2335 rows x 8 columns]"
      ]
     },
     "execution_count": 18,
     "metadata": {},
     "output_type": "execute_result"
    }
   ],
   "source": [
    "med_exam.rename(columns = { 'cid' : 'customer_id',\n",
    "                           'b_m_i' : 'BMI',\n",
    "                           'h_Issues' : 'health_issues',\n",
    "                           'cancer_hist' : 'cancer_history',\n",
    "                           'noofmajorsurgeries' : 'numberofmajorsurgeries',\n",
    "                           'smoker??' : 'smoker'}, inplace= True)\n",
    "#--- Export the df as \"medical_examinations_cleaned.csv\" ---\n",
    "med_exam.to_csv('medical_examinations_cleaned.csv', index = False, index_label = 'customer_id')\n",
    "med_exam"
   ]
  },
  {
   "cell_type": "markdown",
   "id": "1db8a1a8-bc24-4845-bf97-7480951281cd",
   "metadata": {},
   "source": [
    "# **Module 2**\n",
    "**Task 1: Data Download, Import, and Database Connection**"
   ]
  },
  {
   "cell_type": "code",
   "execution_count": 19,
   "id": "83d7b15c-ce68-41b1-87a7-a25bb1813d7c",
   "metadata": {},
   "outputs": [
    {
     "name": "stdout",
     "output_type": "stream",
     "text": [
      "Successfully connected to MySQL!\n"
     ]
    }
   ],
   "source": [
    "cwd = os.getcwd()\n",
    "sql = str(Path(cwd).parents[2]) + \"\\\\Downloads\\\\sql.env\"\n",
    "load_dotenv(sql)\n",
    "conn = mysql.connector.connect(\n",
    "    host=os.getenv(\"MYSQL_HOST\"),\n",
    "    user=os.getenv(\"MYSQL_USER\"),\n",
    "    password=os.getenv(\"MYSQL_PASSWORD\"),\n",
    "    database=\"Medical\"\n",
    ")\n",
    "\n",
    "cursor = conn.cursor()\n",
    "print(\"Successfully connected to MySQL!\")"
   ]
  },
  {
   "cell_type": "code",
   "execution_count": 20,
   "id": "bcd815d4-2deb-494e-abd9-d271361a715c",
   "metadata": {},
   "outputs": [],
   "source": [
    "def f(q):\n",
    "    cursor.execute(q)\n",
    "    rows = cursor.fetchall()\n",
    "    headers = [col[0] for col in cursor.description]\n",
    "    print(tabulate(rows, headers=headers, tablefmt=\"grid\"))"
   ]
  },
  {
   "cell_type": "code",
   "execution_count": 21,
   "id": "4411c9ae-de12-4634-93d8-747e5cf833b1",
   "metadata": {},
   "outputs": [
    {
     "name": "stdout",
     "output_type": "stream",
     "text": [
      "+---------------+--------+---------+--------+------------+-----------+-----------------+-------------+------------+\n",
      "| customer_id   |   year | month   |   date |   children |   charges | hospital_tier   | city_tier   | state_id   |\n",
      "+===============+========+=========+========+============+===========+=================+=============+============+\n",
      "| Id2335        |   1992 | Jul     |      9 |          0 |    563.84 | tier - 2        | tier - 3    | R1013      |\n",
      "+---------------+--------+---------+--------+------------+-----------+-----------------+-------------+------------+\n",
      "| Id2334        |   1992 | Nov     |     30 |          0 |    570.62 | tier - 2        | tier - 1    | R1013      |\n",
      "+---------------+--------+---------+--------+------------+-----------+-----------------+-------------+------------+\n",
      "| Id2332        |   1992 | Sep     |     13 |          0 |    604.54 | tier - 3        | tier - 3    | R1013      |\n",
      "+---------------+--------+---------+--------+------------+-----------+-----------------+-------------+------------+\n",
      "| Id2331        |   1998 | Jul     |     27 |          0 |    637.26 | tier - 3        | tier - 3    | R1013      |\n",
      "+---------------+--------+---------+--------+------------+-----------+-----------------+-------------+------------+\n",
      "| Id2330        |   2001 | Nov     |     20 |          0 |    646.14 | tier - 3        | tier - 3    | R1012      |\n",
      "+---------------+--------+---------+--------+------------+-----------+-----------------+-------------+------------+\n"
     ]
    }
   ],
   "source": [
    "f(\"SELECT * FROM hospitalisation_details LIMIT 5;\")"
   ]
  },
  {
   "cell_type": "markdown",
   "id": "9647ad07-29f5-4599-9877-0c8ab167a926",
   "metadata": {},
   "source": [
    "**Task 2: Average Hospital Charges Analysis**\r\n",
    "\r\n",
    "In this project, we aim to analyze a medical dataset to determine the average hospital charges. This analysis can provide essential insights into healthcare cost trends, helping hospitals and patients understand the financial aspects of medical care. By calculating the average hospital charges, we gain valuable information for financial planning, cost optimization, and transparency in healthcare services."
   ]
  },
  {
   "cell_type": "code",
   "execution_count": 22,
   "id": "cfa08b77-1ec6-4406-8fc6-88d45d19f665",
   "metadata": {},
   "outputs": [
    {
     "name": "stdout",
     "output_type": "stream",
     "text": [
      "+---------------+\n",
      "|   avg_charges |\n",
      "+===============+\n",
      "|       13564.6 |\n",
      "+---------------+\n"
     ]
    }
   ],
   "source": [
    "f(\"SELECT AVG(charges) as avg_charges FROM hospitalisation_details;\")"
   ]
  },
  {
   "cell_type": "markdown",
   "id": "3356f97e-27a1-471c-bcd4-9f2a01aa6409",
   "metadata": {},
   "source": [
    "**Task 3: High Charges Analysis**\r\n",
    "\r\n",
    "This project focuses on identifying unique customer identifiers, corresponding years, and charges from a specific medical dataset, specifically for records where charges exceed 700. By retrieving this data, we can gain insights into cases of exceptionally high hospital charges, which can inform further investigation, cost control strategies, and patient financial support."
   ]
  },
  {
   "cell_type": "code",
   "execution_count": 23,
   "id": "bd572001-89c5-40ff-bc89-138ccc845da9",
   "metadata": {},
   "outputs": [
    {
     "name": "stdout",
     "output_type": "stream",
     "text": [
      "+---------------+--------+-----------+\n",
      "| customer_id   |   year |   charges |\n",
      "+===============+========+===========+\n",
      "| Id2323        |   1999 |    722.99 |\n",
      "+---------------+--------+-----------+\n",
      "| Id2322        |   2002 |    750    |\n",
      "+---------------+--------+-----------+\n",
      "| Id2321        |   1993 |    760    |\n",
      "+---------------+--------+-----------+\n",
      "| Id2320        |   1996 |    760    |\n",
      "+---------------+--------+-----------+\n",
      "| Id2319        |   1993 |    770    |\n",
      "+---------------+--------+-----------+\n",
      "| Id2318        |   1996 |    770.38 |\n",
      "+---------------+--------+-----------+\n",
      "| Id2317        |   1995 |    773.54 |\n",
      "+---------------+--------+-----------+\n",
      "| Id2316        |   2004 |    830.52 |\n",
      "+---------------+--------+-----------+\n",
      "| Id2315        |   2000 |    865.41 |\n",
      "+---------------+--------+-----------+\n",
      "| Id2314        |   1993 |    896.21 |\n",
      "+---------------+--------+-----------+\n"
     ]
    }
   ],
   "source": [
    "f(\"select customer_id, year, charges  from hospitalisation_details where charges>700 limit 10;\")"
   ]
  },
  {
   "cell_type": "markdown",
   "id": "b61bbde5-7c92-4886-a240-94ef44961904",
   "metadata": {},
   "source": [
    "**Task 4: High BMI Patients Analysis**\r\n",
    "\r\n",
    "In this project, we aim to retrieve the name, year, and charges for customers with a BMI (Body Mass Index) greater than 35 from a medical dataset. Analyzing the data of high BMI patients allows us to understand the healthcare costs associated with this specific group. This information can be valuable for identifying health trends, managing patient care, and optimizing medical expenses."
   ]
  },
  {
   "cell_type": "code",
   "execution_count": 24,
   "id": "6f6dec59-380b-4124-81cf-9731173e690a",
   "metadata": {},
   "outputs": [
    {
     "name": "stdout",
     "output_type": "stream",
     "text": [
      "+--------------------------------+--------+-----------+\n",
      "| name                           |   year |   charges |\n",
      "+================================+========+===========+\n",
      "| Albertson, Mr.  Mark P.        |   2004 |   1141.45 |\n",
      "+--------------------------------+--------+-----------+\n",
      "| Montoya, Mr.  Alvaro Sr.       |   2004 |   1146.8  |\n",
      "+--------------------------------+--------+-----------+\n",
      "| Luy, Mr.  David                |   2004 |   1149.4  |\n",
      "+--------------------------------+--------+-----------+\n",
      "| Boulay, Mr.  Pierre            |   2004 |   1163.46 |\n",
      "+--------------------------------+--------+-----------+\n",
      "| Johnson, Mr.  Ryan C.          |   2003 |   1263.25 |\n",
      "+--------------------------------+--------+-----------+\n",
      "| Lawder, Mr.  Matthew T.        |   2001 |   1532.47 |\n",
      "+--------------------------------+--------+-----------+\n",
      "| Sanseverino, Mr.  Cole         |   2001 |   1534.3  |\n",
      "+--------------------------------+--------+-----------+\n",
      "| Freeman, Ms.  Jennifer A.      |   2004 |   1629.83 |\n",
      "+--------------------------------+--------+-----------+\n",
      "| Prince, Ms.  Dani              |   2004 |   1631.67 |\n",
      "+--------------------------------+--------+-----------+\n",
      "| Ytterstad, Ms.  Nina Wavik Sr. |   2004 |   1631.82 |\n",
      "+--------------------------------+--------+-----------+\n"
     ]
    }
   ],
   "source": [
    "f(\"\"\"SELECT n.name, h.year, h.charges\n",
    "FROM hospitalisation_details AS h\n",
    "JOIN medical_examinations AS m ON h.customer_id = m.customer_id\n",
    "JOIN names AS n ON n.customer_id = m.customer_id\n",
    "WHERE m.BMI > 35\n",
    "limit 10;\"\"\")"
   ]
  },
  {
   "cell_type": "markdown",
   "id": "6ea858c4-7538-4e56-ad0b-e9e03a234fe1",
   "metadata": {},
   "source": [
    "**Task 5: Customers with Major Surgeries**\r\n",
    "\r\n",
    "This project focuses on listing customer IDs and names of individuals from the names table who have undergone major surgeries, as recorded in the medical_examinations table. By identifying such patients, we can gain insights into the population with a history of major surgical procedures, which can inform healthcare planning, risk assessment, and medical follow-up."
   ]
  },
  {
   "cell_type": "code",
   "execution_count": 26,
   "id": "be1410fb-ce38-4440-a1c5-a3d2f1ab1250",
   "metadata": {},
   "outputs": [
    {
     "name": "stdout",
     "output_type": "stream",
     "text": [
      "+---------------+----------------------------------+\n",
      "| customer_id   | name                             |\n",
      "+===============+==================================+\n",
      "| Id3           | Lu, Mr.  Phil                    |\n",
      "+---------------+----------------------------------+\n",
      "| Id8           | Hallman, Mr.  Stephen            |\n",
      "+---------------+----------------------------------+\n",
      "| Id9           | Moran, Mr.  Patrick R.           |\n",
      "+---------------+----------------------------------+\n",
      "| Id11          | Fierro Vargas, Ms.  Paola Andrea |\n",
      "+---------------+----------------------------------+\n",
      "| Id15          | Rios, Ms.  Leilani M.            |\n",
      "+---------------+----------------------------------+\n",
      "| Id17          | Cronin, Ms.  Jennifer A.         |\n",
      "+---------------+----------------------------------+\n",
      "| Id18          | Noordstar, Ms.  Christina M.     |\n",
      "+---------------+----------------------------------+\n",
      "| Id19          | Boudalia, Mr.  Said Sr.          |\n",
      "+---------------+----------------------------------+\n",
      "| Id21          | Fennon, Mr.  Myles               |\n",
      "+---------------+----------------------------------+\n",
      "| Id22          | Hribar, Ms.  Madelyn C           |\n",
      "+---------------+----------------------------------+\n"
     ]
    }
   ],
   "source": [
    "f(\"\"\"SELECT n.customer_id, n.name\n",
    "FROM names AS n\n",
    "JOIN medical_examinations AS m ON n.customer_id = m.customer_id\n",
    "WHERE m.numberofmajorsurgeries >= 1\n",
    "limit 10;\"\"\")\n"
   ]
  },
  {
   "cell_type": "markdown",
   "id": "6568eae7-addd-431e-bc76-80d820c823f9",
   "metadata": {},
   "source": [
    "**Task 6: Average Charges by Hospital Tier in 2000**\n",
    "\n",
    "In this project, we aim to calculate the average hospital charges per hospital tier for the year 2000 from the hospitalization_details table. This analysis allows us to understand the variation in charges based on the hospital tier, providing insights into cost disparities and healthcare quality across different tiers. It can assist in making informed decisions about healthcare facilities and costs."
   ]
  },
  {
   "cell_type": "code",
   "execution_count": 27,
   "id": "4a6411cd-cf15-4fca-87c7-d8c4618df198",
   "metadata": {},
   "outputs": [
    {
     "name": "stdout",
     "output_type": "stream",
     "text": [
      "+-----------------+----------------+\n",
      "| hospital_tier   |   avg(charges) |\n",
      "+=================+================+\n",
      "| tier - 3        |        4673.12 |\n",
      "+-----------------+----------------+\n",
      "| tier - 2        |        8915.94 |\n",
      "+-----------------+----------------+\n",
      "| tier - 1        |       35367.4  |\n",
      "+-----------------+----------------+\n"
     ]
    }
   ],
   "source": [
    "f(\"\"\"select hospital_tier, avg(charges) from hospitalisation_details\n",
    "where year = 2000\n",
    "group by hospital_tier;\"\"\")\n"
   ]
  },
  {
   "cell_type": "markdown",
   "id": "43737594-4502-4961-972f-89fb43148797",
   "metadata": {},
   "source": [
    "**Task 7: Smoking Patients with Transplants Analysis**\r\n",
    "\r\n",
    "This project aims to retrieve customer IDs, BMI, and charges for patients who are smokers and have undergone a transplant, as per the medical_examinations and hospitalization_details tables. Analyzing this data allows us to study the healthcare costs and health conditions of patients with a history of smoking and transplants. This information can be valuable for targeted healthcare interventions and cost estimation."
   ]
  },
  {
   "cell_type": "code",
   "execution_count": 28,
   "id": "8a277209-3718-4213-bc72-6908363b54e5",
   "metadata": {},
   "outputs": [
    {
     "name": "stdout",
     "output_type": "stream",
     "text": [
      "+---------------+--------+-----------+\n",
      "| customer_id   |    BMI |   charges |\n",
      "+===============+========+===========+\n",
      "| Id824         | 17.29  |   12829.5 |\n",
      "+---------------+--------+-----------+\n",
      "| Id742         | 21.565 |   13747.9 |\n",
      "+---------------+--------+-----------+\n",
      "| Id707         | 21.66  |   14283.5 |\n",
      "+---------------+--------+-----------+\n",
      "| Id575         | 27.36  |   17178.7 |\n",
      "+---------------+--------+-----------+\n",
      "| Id543         | 27.28  |   18223.5 |\n",
      "+---------------+--------+-----------+\n",
      "| Id428         | 25.71  |   24294   |\n",
      "+---------------+--------+-----------+\n",
      "| Id399         | 27.79  |   26027   |\n",
      "+---------------+--------+-----------+\n",
      "| Id394         | 32.06  |   26316.6 |\n",
      "+---------------+--------+-----------+\n",
      "| Id391         | 32.54  |   26479.4 |\n",
      "+---------------+--------+-----------+\n",
      "| Id386         | 30.86  |   26937   |\n",
      "+---------------+--------+-----------+\n",
      "| Id315         | 43.5   |   30328.3 |\n",
      "+---------------+--------+-----------+\n",
      "| Id304         | 46.06  |   31196.6 |\n",
      "+---------------+--------+-----------+\n",
      "| Id303         | 43.53  |   31234.6 |\n",
      "+---------------+--------+-----------+\n",
      "| Id257         | 31.73  |   33732.7 |\n",
      "+---------------+--------+-----------+\n",
      "| Id254         | 51.18  |   33829.4 |\n",
      "+---------------+--------+-----------+\n",
      "| Id252         | 30.4   |   33907.6 |\n",
      "+---------------+--------+-----------+\n",
      "| Id235         | 33.535 |   34617.8 |\n",
      "+---------------+--------+-----------+\n",
      "| Id211         | 35.6   |   35585.6 |\n",
      "+---------------+--------+-----------+\n",
      "| Id210         | 31.02  |   35595.6 |\n",
      "+---------------+--------+-----------+\n",
      "| Id199         | 36.85  |   36149.5 |\n",
      "+---------------+--------+-----------+\n",
      "| Id194         | 38.17  |   36307.8 |\n",
      "+---------------+--------+-----------+\n",
      "| Id170         | 37.62  |   37165.2 |\n",
      "+---------------+--------+-----------+\n",
      "| Id163         | 37.07  |   37484.4 |\n",
      "+---------------+--------+-----------+\n",
      "| Id137         | 42.24  |   38792.7 |\n",
      "+---------------+--------+-----------+\n",
      "| Id41          | 52.58  |   44501.4 |\n",
      "+---------------+--------+-----------+\n"
     ]
    }
   ],
   "source": [
    "f(\"\"\"select m.customer_id, m.BMI, h.charges from medical_examinations as m\n",
    "JOIN hospitalisation_details as h ON h.customer_id = m.customer_id\n",
    "where smoker = 'yes' AND any_transplant = 'yes';\"\"\")"
   ]
  },
  {
   "cell_type": "markdown",
   "id": "90e413c9-5671-41aa-a9d8-0988e93aedcb",
   "metadata": {},
   "source": [
    "**Task 8: Patients with Major Surgeries or Cancer History**\r\n",
    "\r\n",
    "In this project, we retrieve the names of customers who have had at least two major surgeries or have a history of cancer, as recorded in the medical_examinations table. This analysis helps identify patients with complex medical histories, enabling healthcare providers to tailor care plans and assess potential healthcare costs for these individuals.n."
   ]
  },
  {
   "cell_type": "code",
   "execution_count": 29,
   "id": "74ea4423-43b7-475d-b416-366d119cdb5d",
   "metadata": {},
   "outputs": [
    {
     "name": "stdout",
     "output_type": "stream",
     "text": [
      "+----------------------------------+\n",
      "| name                             |\n",
      "+==================================+\n",
      "| Lu, Mr.  Phil                    |\n",
      "+----------------------------------+\n",
      "| Hallman, Mr.  Stephen            |\n",
      "+----------------------------------+\n",
      "| Moran, Mr.  Patrick R.           |\n",
      "+----------------------------------+\n",
      "| Fierro Vargas, Ms.  Paola Andrea |\n",
      "+----------------------------------+\n",
      "| Rios, Ms.  Leilani M.            |\n",
      "+----------------------------------+\n",
      "| Cronin, Ms.  Jennifer A.         |\n",
      "+----------------------------------+\n",
      "| Noordstar, Ms.  Christina M.     |\n",
      "+----------------------------------+\n",
      "| Fennon, Mr.  Myles               |\n",
      "+----------------------------------+\n",
      "| Hribar, Ms.  Madelyn C           |\n",
      "+----------------------------------+\n",
      "| Tassello, Ms.  Nicole            |\n",
      "+----------------------------------+\n"
     ]
    }
   ],
   "source": [
    "f(\"\"\"select n.name from  names as n\n",
    "JOIN medical_examinations as m ON m.customer_id = n.customer_id\n",
    "where cancer_history = 'Yes' OR numberofmajorsurgeries >= 2\n",
    "limit 10;\"\"\")"
   ]
  },
  {
   "cell_type": "markdown",
   "id": "6a61bfc1-efac-4c6c-9c00-40f700e084b8",
   "metadata": {},
   "source": [
    "**Task 9: Customer with Most Major Surgeries**\r\n",
    "\r\n",
    "In this project, we identify and display the customer with the highest number of major surgeries. By joining the names and medical_examinations tables and sorting the records by the number of major surgeries in descending order, we can pinpoint the customer with the most significant surgical history. This insight is valuable for personalized healthcare management and resource allocation.n."
   ]
  },
  {
   "cell_type": "code",
   "execution_count": 30,
   "id": "7f5b16d6-b1b5-4a22-bfda-58f5238f3843",
   "metadata": {},
   "outputs": [
    {
     "name": "stdout",
     "output_type": "stream",
     "text": [
      "+---------------+--------------------------+\n",
      "| customer_id   | name                     |\n",
      "+===============+==========================+\n",
      "| Id17          | Cronin, Ms.  Jennifer A. |\n",
      "+---------------+--------------------------+\n"
     ]
    }
   ],
   "source": [
    "f(\"\"\"select n.customer_id, n.name from  names as n\n",
    "JOIN medical_examinations as m ON m.customer_id = n.customer_id\n",
    "order by numberofmajorsurgeries desc\n",
    "limit 1;\"\"\")"
   ]
  },
  {
   "cell_type": "markdown",
   "id": "6914c55e-16ab-414b-82dc-67c4a1b9a744",
   "metadata": {},
   "source": [
    "**Task 10: Customers with Major Surgeries and City Tiers**\r\n",
    "\r\n",
    "In this project, we compile a list of customers who have undergone major surgeries and their respective cities' tier levels (city_tier) from the hospitalization_details table. This analysis provides insights into the distribution of major surgeries across different city tiers, aiding in healthcare planning, resource allocation, and assessing the impact of city tiers on surgical cases.n."
   ]
  },
  {
   "cell_type": "code",
   "execution_count": 31,
   "id": "1ff45e94-383c-4053-b03c-1d17f8a349ca",
   "metadata": {},
   "outputs": [
    {
     "name": "stdout",
     "output_type": "stream",
     "text": [
      "+---------------+------------------------------------+-------------+\n",
      "| customer_id   | name                               | city_tier   |\n",
      "+===============+====================================+=============+\n",
      "| Id2335        | German, Mr.  Aaron K               | tier - 3    |\n",
      "+---------------+------------------------------------+-------------+\n",
      "| Id2334        | Rosendahl, Mr.  Evan P             | tier - 1    |\n",
      "+---------------+------------------------------------+-------------+\n",
      "| Id2332        | Riveros Gonzalez, Mr.  Juan D. Sr. | tier - 3    |\n",
      "+---------------+------------------------------------+-------------+\n",
      "| Id2331        | Brietzke, Mr.  Jordan              | tier - 3    |\n",
      "+---------------+------------------------------------+-------------+\n",
      "| Id2329        | Bohinski, Ms.  Susan E             | tier - 3    |\n",
      "+---------------+------------------------------------+-------------+\n",
      "| Id2328        | Avery, Ms.  Nicole                 | tier - 3    |\n",
      "+---------------+------------------------------------+-------------+\n",
      "| Id2326        | Castro, Mr.  Sebastian             | tier - 3    |\n",
      "+---------------+------------------------------------+-------------+\n",
      "| Id2321        | Danielson, Mr.  Thomas             | tier - 1    |\n",
      "+---------------+------------------------------------+-------------+\n",
      "| Id2319        | Petermann, Mr.  Theodore A.        | tier - 3    |\n",
      "+---------------+------------------------------------+-------------+\n",
      "| Id2317        | Murakami, Mr.  Koji                | tier - 2    |\n",
      "+---------------+------------------------------------+-------------+\n"
     ]
    }
   ],
   "source": [
    "f(\"\"\"SELECT n.customer_id, n.name, h.city_tier\n",
    "FROM hospitalisation_details AS h\n",
    "JOIN medical_examinations AS m ON h.customer_id = m.customer_id\n",
    "JOIN names AS n ON n.customer_id = m.customer_id\n",
    "where numberofmajorsurgeries > 0\n",
    "limit 10;\"\"\")"
   ]
  },
  {
   "cell_type": "markdown",
   "id": "87ee04d7-b7c1-4aed-86d0-b9959604dbca",
   "metadata": {},
   "source": [
    "**Task 11: Average BMI by City Tier in 1995**\r\n",
    "\r\n",
    "This project aims to calculate the average BMI for each city tier level in the year 1995 from the hospitalization_details table. Analyzing the average BMI across different city tiers allows us to understand the variations in health parameters among urban areas. It provides insights that can be used for health planning, resource allocation, and identifying potential health trends.n."
   ]
  },
  {
   "cell_type": "code",
   "execution_count": 32,
   "id": "20c006d1-021e-4cee-9859-3a05f968c4a9",
   "metadata": {},
   "outputs": [
    {
     "name": "stdout",
     "output_type": "stream",
     "text": [
      "+-------------+-----------+\n",
      "| city_tier   |   avg_bmi |\n",
      "+=============+===========+\n",
      "| tier - 3    |   30.6857 |\n",
      "+-------------+-----------+\n",
      "| tier - 2    |   29.4324 |\n",
      "+-------------+-----------+\n",
      "| tier - 1    |   29.8187 |\n",
      "+-------------+-----------+\n"
     ]
    }
   ],
   "source": [
    "f(\"\"\"select h.city_tier, AVG(m.BMI) as avg_bmi \n",
    "FROM hospitalisation_details AS h\n",
    "JOIN medical_examinations AS m ON h.customer_id = m.customer_id\n",
    "where year = 1995\n",
    "group by h.city_tier\"\"\")"
   ]
  },
  {
   "cell_type": "markdown",
   "id": "75c96a5e-6118-48e7-845c-09ff073c36dc",
   "metadata": {},
   "source": [
    "**Task 12: High BMI Customers with Health Issues**\r\n",
    "\r\n",
    "In this project, we extract customer IDs, names, and charges of customers who have health issues and a BMI greater than 30. By combining data from the names, medical_examinations, and hospitalization_details tables, we can identify individuals with specific health concerns and high BMI levels. This information is valuable for targeted healthcare interventions and assessing associated healthcare costs.n."
   ]
  },
  {
   "cell_type": "code",
   "execution_count": 33,
   "id": "64bf5063-ec75-4a48-a1f0-d32a55eb2ecf",
   "metadata": {},
   "outputs": [
    {
     "name": "stdout",
     "output_type": "stream",
     "text": [
      "+---------------+-------------------------+-----------+\n",
      "| customer_id   | name                    |   charges |\n",
      "+===============+=========================+===========+\n",
      "| Id2223        | Young, Mr.  Zachary     |   1526.31 |\n",
      "+---------------+-------------------------+-----------+\n",
      "| Id2222        | Lawder, Mr.  Matthew T. |   1532.47 |\n",
      "+---------------+-------------------------+-----------+\n",
      "| Id2221        | Sanseverino, Mr.  Cole  |   1534.3  |\n",
      "+---------------+-------------------------+-----------+\n",
      "| Id2155        | Waters, Mr.  Brian W.   |   1909.53 |\n",
      "+---------------+-------------------------+-----------+\n",
      "| Id2154        | Lutz, Mr.  Zachary A    |   1917.32 |\n",
      "+---------------+-------------------------+-----------+\n",
      "| Id2143        | Deiman, Ms.  Lena       |   2020.18 |\n",
      "+---------------+-------------------------+-----------+\n",
      "| Id2142        | Putt, Ms.  Tammy        |   2020.55 |\n",
      "+---------------+-------------------------+-----------+\n",
      "| Id2141        | De Hueck, Ms.  Jennifer |   2026.97 |\n",
      "+---------------+-------------------------+-----------+\n",
      "| Id2139        | Gamirov, Mr.  Arthur    |   2055.32 |\n",
      "+---------------+-------------------------+-----------+\n",
      "| Id2102        | Goetz, Mr.  Justin      |   2254.8  |\n",
      "+---------------+-------------------------+-----------+\n"
     ]
    }
   ],
   "source": [
    "f(\"\"\"SELECT n.customer_id, n.name, h.charges\n",
    "FROM hospitalisation_details AS h\n",
    "JOIN medical_examinations AS m ON h.customer_id = m.customer_id\n",
    "JOIN names AS n ON n.customer_id = m.customer_id\n",
    "where health_issues = 'yes' and m.BMI > 30\n",
    "limit 10;\"\"\")"
   ]
  },
  {
   "cell_type": "markdown",
   "id": "54a201eb-fa00-41f2-8f93-51b19460a961",
   "metadata": {},
   "source": [
    "**Task 13: Customers with Highest Charges and City Tier by Year**\r\n",
    "\r\n",
    "In this project, we identify the customer with the highest total charges for each year and display their corresponding city_tier. By joining the hospitalization_details and names tables and grouping the data by year, customer name, and city_tier, we can determine which customer incurred the highest charges in each year. This analysis is crucial for understanding cost patterns over time and tailoring healthcare strategies accordingly.n."
   ]
  },
  {
   "cell_type": "code",
   "execution_count": 34,
   "id": "850c3216-62bf-42b6-abb8-f56f567c4084",
   "metadata": {},
   "outputs": [
    {
     "name": "stdout",
     "output_type": "stream",
     "text": [
      "+--------+----------------------------+-------------+-----------------+\n",
      "|   year | name                       | city_tier   |   asmax_charges |\n",
      "+========+============================+=============+=================+\n",
      "|   2001 | Edwards, Ms.  Elizabeth M. | tier - 2    |         26019   |\n",
      "+--------+----------------------------+-------------+-----------------+\n",
      "|   1996 | LaBelle, Mr.  Ian E.       | tier - 1    |         36085.2 |\n",
      "+--------+----------------------------+-------------+-----------------+\n",
      "|   1998 | Arnstein, Mr.  Michael     | tier - 3    |         38126.2 |\n",
      "+--------+----------------------------+-------------+-----------------+\n",
      "|   2002 | Meyer, Mr.  Michael P      | tier - 3    |         38344.6 |\n",
      "+--------+----------------------------+-------------+-----------------+\n",
      "|   1990 | Kropelnicki, Mr.  Jesse    | tier - 2    |         38652.1 |\n",
      "+--------+----------------------------+-------------+-----------------+\n",
      "|   2004 | Walhovd, Ms.  Kristine B.  | tier - 2    |         38792.7 |\n",
      "+--------+----------------------------+-------------+-----------------+\n",
      "|   1995 | Keflezighi, Mr.  Meb       | tier - 3    |         39611.8 |\n",
      "+--------+----------------------------+-------------+-----------------+\n",
      "|   2003 | Stroffolino, Mr.  Jamie P  | tier - 1    |         39722.8 |\n",
      "+--------+----------------------------+-------------+-----------------+\n",
      "|   1987 | Potter, Ms.  Amanda        | tier - 3    |         39983.4 |\n",
      "+--------+----------------------------+-------------+-----------------+\n",
      "|   1982 | Ganley, Ms.  Emily J       | tier - 1    |         40003.3 |\n",
      "+--------+----------------------------+-------------+-----------------+\n"
     ]
    }
   ],
   "source": [
    "f(\"\"\"SELECT h.year, n.name, h.city_tier, max(h.charges) asmax_charges\n",
    "FROM hospitalisation_details AS h\n",
    "JOIN names AS n ON n.customer_id = h.customer_id\n",
    "group by h.year, n.name, h.city_tier\n",
    "Having max(h.charges) = (select max(charges) from hospitalisation_details where year = h.year)\n",
    "limit 10;\"\"\")"
   ]
  },
  {
   "cell_type": "markdown",
   "id": "f7320636-c127-443d-8a0d-9ab3633afbe2",
   "metadata": {},
   "source": [
    "**Task 14: Top 3 Customers with Highest Average Yearly Charges**\r\n",
    "\r\n",
    "This project focuses on identifying the top 3 customers with the highest average yearly charges over the years they have been hospitalized. By calculating and analyzing the average yearly charges from the hospitalization_details data and joining it with customer names, we can pinpoint those individuals with the highest healthcare expenditure. Understanding these patterns is essential for resource allocation and tailored healthcare planning.n."
   ]
  },
  {
   "cell_type": "code",
   "execution_count": 35,
   "id": "db2b7554-6c97-4475-877b-017de914dd91",
   "metadata": {},
   "outputs": [
    {
     "name": "stdout",
     "output_type": "stream",
     "text": [
      "+------------------------+----------------------+\n",
      "| name                   |   avg_yearly_Charges |\n",
      "+========================+======================+\n",
      "| Hawks, Ms.  Kelly      |              63770.4 |\n",
      "+------------------------+----------------------+\n",
      "| Lehner, Mr.  Matthew D |              62592.9 |\n",
      "+------------------------+----------------------+\n",
      "| Lu, Mr.  Phil          |              60021.4 |\n",
      "+------------------------+----------------------+\n"
     ]
    }
   ],
   "source": [
    "f(\"\"\"with Yearlycharges as ( \n",
    "    select customer_id, avg(charges) as avg_yearly_Charges \n",
    "    from hospitalisation_details group by customer_id, year)\n",
    "Select n.name, y.avg_yearly_Charges from names n\n",
    "JOIN Yearlycharges as y ON y.customer_id = n.customer_id\n",
    "order by y.avg_yearly_Charges desc\n",
    "limit 3;\"\"\")"
   ]
  },
  {
   "cell_type": "markdown",
   "id": "ac2966fe-b152-4db2-b423-7a1536aaf66b",
   "metadata": {},
   "source": [
    "**Task 15: Ranking Customers by Total Charges**\r\n",
    "\r\n",
    "This analysis aims to rank customers based on their total charges over the years in descending order. By summing up the charges from the hospitalization_details data for each customer and assigning a rank, we can identify those with the highest healthcare expenses. This information is valuable for healthcare providers and policymakers in tailoring services and managing resources effectively.n."
   ]
  },
  {
   "cell_type": "code",
   "execution_count": 36,
   "id": "b0cabc11-3060-4eda-a9af-8b5a9139d522",
   "metadata": {},
   "outputs": [
    {
     "name": "stdout",
     "output_type": "stream",
     "text": [
      "+------------------------+-----------------+----------------+\n",
      "| name                   |   total_charges |   charges_rank |\n",
      "+========================+=================+================+\n",
      "| Hawks, Ms.  Kelly      |         63770.4 |              1 |\n",
      "+------------------------+-----------------+----------------+\n",
      "| Lehner, Mr.  Matthew D |         62592.9 |              2 |\n",
      "+------------------------+-----------------+----------------+\n",
      "| Lu, Mr.  Phil          |         60021.4 |              3 |\n",
      "+------------------------+-----------------+----------------+\n",
      "| Osborne, Ms.  Kelsey   |         58571.1 |              4 |\n",
      "+------------------------+-----------------+----------------+\n",
      "| Kadala, Ms.  Kristyn   |         55135.4 |              5 |\n",
      "+------------------------+-----------------+----------------+\n",
      "| Baker, Mr.  Russell B. |         52590.8 |              6 |\n",
      "+------------------------+-----------------+----------------+\n",
      "| Macpherson, Mr.  Scott |         51194.6 |              7 |\n",
      "+------------------------+-----------------+----------------+\n",
      "| Hallman, Mr.  Stephen  |         49577.7 |              8 |\n",
      "+------------------------+-----------------+----------------+\n",
      "| Moran, Mr.  Patrick R. |         48970.2 |              9 |\n",
      "+------------------------+-----------------+----------------+\n",
      "| Benner, Ms.  Brooke N. |         48885.1 |             10 |\n",
      "+------------------------+-----------------+----------------+\n"
     ]
    }
   ],
   "source": [
    "f(\"\"\"SELECT n.name, sum(h.charges) as total_charges, RANK() OVER (ORDER BY SUM(h.charges) desc) AS charges_rank\n",
    "FROM hospitalisation_details AS h\n",
    "JOIN names AS n ON n.customer_id = h.customer_id\n",
    "group by n.name\n",
    "order by charges_rank asc\n",
    "limit 10;\"\"\")"
   ]
  },
  {
   "cell_type": "markdown",
   "id": "71113326-d2d5-433f-b528-abed5d49cc13",
   "metadata": {},
   "source": [
    "**Task 16: Identifying Peak Year for Hospitalizations**\n",
    "\n",
    "This task is essential for identifying the year with the highest number of hospitalizations. By calculating the count of hospitalizations for each year from the hospitalization_details dataset, we can pinpoint the peak year for healthcare demand. This insight can help healthcare institutions allocate resources and plan for peak demand years more effectively."
   ]
  },
  {
   "cell_type": "code",
   "execution_count": 37,
   "id": "a9ad56da-f1da-4385-9fe3-3622d2086829",
   "metadata": {},
   "outputs": [
    {
     "name": "stdout",
     "output_type": "stream",
     "text": [
      "+--------+------------------------+\n",
      "|   year |   num_hospitalizations |\n",
      "+========+========================+\n",
      "|   2004 |                    100 |\n",
      "+--------+------------------------+\n"
     ]
    }
   ],
   "source": [
    "f(\"\"\"WITH YearlyHospitalizations AS (\n",
    "    SELECT\n",
    "        year,\n",
    "        COUNT(*) AS num_hospitalizations\n",
    "    FROM\n",
    "        hospitalisation_details\n",
    "    GROUP BY\n",
    "        year\n",
    ")\n",
    "SELECT\n",
    "    year,\n",
    "    num_hospitalizations\n",
    "FROM\n",
    "    YearlyHospitalizations\n",
    "WHERE\n",
    "    num_hospitalizations = (SELECT MAX(num_hospitalizations) FROM YearlyHospitalizations);\"\"\")"
   ]
  },
  {
   "cell_type": "code",
   "execution_count": 39,
   "id": "c2f67d11-41bf-4da5-9e60-db5b0ed10d2a",
   "metadata": {},
   "outputs": [
    {
     "name": "stdout",
     "output_type": "stream",
     "text": [
      "✅ SQL connection closed successfully!\n"
     ]
    }
   ],
   "source": [
    "cursor.close()\n",
    "conn.close()\n",
    "print(\"✅ SQL connection closed successfully!\")"
   ]
  }
 ],
 "metadata": {
  "kernelspec": {
   "display_name": "Python 3 (ipykernel)",
   "language": "python",
   "name": "python3"
  },
  "language_info": {
   "codemirror_mode": {
    "name": "ipython",
    "version": 3
   },
   "file_extension": ".py",
   "mimetype": "text/x-python",
   "name": "python",
   "nbconvert_exporter": "python",
   "pygments_lexer": "ipython3",
   "version": "3.12.2"
  }
 },
 "nbformat": 4,
 "nbformat_minor": 5
}
